{
 "cells": [
  {
   "cell_type": "code",
   "execution_count": 1,
   "id": "73cc334d",
   "metadata": {},
   "outputs": [
    {
     "name": "stdout",
     "output_type": "stream",
     "text": [
      "Requirement already satisfied: similarweb-scraper in /Users/aleix/.pyenv/versions/3.10.6/envs/kynnesia/lib/python3.10/site-packages (0.0.3)\n",
      "  % Total    % Received % Xferd  Average Speed   Time    Time     Time  Current\n",
      "                                 Dload  Upload   Total   Spent    Left  Speed\n",
      "100  183k    0  183k    0     0   279k      0 --:--:-- --:--:-- --:--:--  282k\n"
     ]
    }
   ],
   "source": [
    "# Install the scraper\n",
    "! pip install similarweb-scraper\n",
    "# Download the Github file\n",
    "! curl -LJO https://github.com/wchan757/similarweb_scraper/blob/master/similarweb_html_extract.py\n",
    "# Create two directories\n",
    "! mkdir short_cutpath\n",
    "! mkdir data_storage"
   ]
  },
  {
   "cell_type": "code",
   "execution_count": null,
   "id": "d16cfd93",
   "metadata": {},
   "outputs": [],
   "source": []
  }
 ],
 "metadata": {
  "kernelspec": {
   "display_name": "Python 3 (ipykernel)",
   "language": "python",
   "name": "python3"
  },
  "language_info": {
   "codemirror_mode": {
    "name": "ipython",
    "version": 3
   },
   "file_extension": ".py",
   "mimetype": "text/x-python",
   "name": "python",
   "nbconvert_exporter": "python",
   "pygments_lexer": "ipython3",
   "version": "3.10.6"
  },
  "toc": {
   "base_numbering": 1,
   "nav_menu": {},
   "number_sections": true,
   "sideBar": true,
   "skip_h1_title": false,
   "title_cell": "Table of Contents",
   "title_sidebar": "Contents",
   "toc_cell": false,
   "toc_position": {},
   "toc_section_display": true,
   "toc_window_display": false
  }
 },
 "nbformat": 4,
 "nbformat_minor": 5
}
